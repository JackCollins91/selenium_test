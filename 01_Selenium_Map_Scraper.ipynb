{
 "cells": [
  {
   "cell_type": "markdown",
   "metadata": {},
   "source": [
    "## Map Scraper\n",
    "Use Selenium to scrape the bayern atlas map by iterating through every pixel on the map object, clicking there, ad collecting the HTML content from the popup."
   ]
  },
  {
   "cell_type": "code",
   "execution_count": null,
   "metadata": {},
   "outputs": [],
   "source": [
    "from selenium import webdriver\n",
    "from selenium.common.exceptions import MoveTargetOutOfBoundsException, NoSuchElementException\n",
    "from selenium.webdriver.common.by import By\n",
    "from selenium.webdriver.common.action_chains import ActionChains\n",
    "from webdriver_manager.firefox import GeckoDriverManager\n",
    "\n",
    "import time\n",
    "import math\n",
    "import numpy as np\n",
    "import datetime\n",
    "\n",
    "STEP_SIZE = 1\n",
    "\n",
    "filename = datetime.datetime.now().strftime(\"%Y%m%d%H%M%S\")+\".txt\"\n",
    "profile= webdriver.FirefoxProfile()\n",
    "profile.set_preference( \"layout.css.devPixelsPerPx\", \"0.5\" )\n",
    "driver = webdriver.Firefox(\n",
    "    firefox_profile=profile,\n",
    "    executable_path=GeckoDriverManager().install()\n",
    "    )\n",
    "website_url = \"https://geoportal.bayern.de/bauleitplanungsportal/karte.html\"\n",
    "time.sleep(20)\n",
    "driver.get(website_url)\n",
    "driver.switch_to.frame(\"map\")\n",
    "ol_viewport = driver.find_element(By.XPATH, '/html/body/div[2]/div[7]')\n",
    "viewport_width = math.floor(ol_viewport.size['width'])\n",
    "viewport_height =math.floor(ol_viewport.size['height'])\n",
    " \n",
    "for x in np.arange(0, viewport_width, STEP_SIZE):\n",
    "    for y in np.arange(0, viewport_height, STEP_SIZE):\n",
    "        try:\n",
    "            action = ActionChains(driver)\n",
    "            action.move_to_element_with_offset(ol_viewport, x, y)\n",
    "            action.click()\n",
    "            action.perform()\n",
    "            time.sleep(5)\n",
    "            panel_body_html = driver.find_element(\n",
    "                    By.CLASS_NAME, \"panel-body\"\n",
    "                ).get_attribute(\"outerHTML\")\n",
    "            output_text = (\n",
    "                \"<coords value = \"+\n",
    "                str((x,y))+\">\\n\"+\n",
    "                panel_body_html+\n",
    "                \"\\n<coords/>\\n\"\n",
    "            )\n",
    "        except MoveTargetOutOfBoundsException as e:\n",
    "            output_text = (\n",
    "            \"<coords value = \"+\n",
    "            str((x,y))+\">\\n\"+\n",
    "            \"Out of bounds\"+\n",
    "            \"\\n<coords/>\\n\"\n",
    "            )\n",
    "        except NoSuchElementException as e:\n",
    "            output_text = (\n",
    "            \"<coords value = \"+\n",
    "            str((x,y))+\">\\n\"+\n",
    "            \"No Element 'panel-body' found\"+\n",
    "            \"\\n<coords/>\\n\"\n",
    "        )\n",
    "\n",
    "        with open(filename, 'a', encoding=\"utf-8\") as file:\n",
    "            file.write(output_text +'\\n')\n",
    "\n",
    "driver.quit()"
   ]
  }
 ],
 "metadata": {
  "kernelspec": {
   "display_name": "Python 3",
   "language": "python",
   "name": "python3"
  },
  "language_info": {
   "codemirror_mode": {
    "name": "ipython",
    "version": 3
   },
   "file_extension": ".py",
   "mimetype": "text/x-python",
   "name": "python",
   "nbconvert_exporter": "python",
   "pygments_lexer": "ipython3",
   "version": "3.10.7"
  }
 },
 "nbformat": 4,
 "nbformat_minor": 2
}
