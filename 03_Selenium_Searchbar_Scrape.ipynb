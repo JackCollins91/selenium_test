{
 "cells": [
  {
   "cell_type": "markdown",
   "metadata": {},
   "source": [
    "## Scrape from search bar\n",
    "\n",
    "This is not fully implemented, but the idea is to type in every combination of two letters ('aa','ab'...) into the search bar and then extract every building plan url provided. Note that many of these stes direct to another website with the plan on there, so a second layer of scraping would be required "
   ]
  },
  {
   "cell_type": "code",
   "execution_count": 17,
   "metadata": {},
   "outputs": [],
   "source": [
    "from selenium import webdriver\n",
    "from selenium.common.exceptions import MoveTargetOutOfBoundsException, NoSuchElementException\n",
    "from selenium.webdriver.common.by import By\n",
    "from selenium.webdriver.common.action_chains import ActionChains\n",
    "from webdriver_manager.firefox import GeckoDriverManager\n",
    "from bs4 import BeautifulSoup\n",
    "import re\n",
    "\n",
    "import time\n",
    "import math\n",
    "import numpy as np\n",
    "import datetime"
   ]
  },
  {
   "cell_type": "code",
   "execution_count": 2,
   "metadata": {},
   "outputs": [
    {
     "name": "stderr",
     "output_type": "stream",
     "text": [
      "C:\\Users\\jocollin\\AppData\\Local\\Temp\\ipykernel_14840\\741805438.py:3: DeprecationWarning: firefox_profile has been deprecated, please use an Options object\n",
      "  profile= webdriver.FirefoxProfile()\n",
      "[WDM] - Downloading: 17.8kB [00:00, ?B/s]                       \n",
      "C:\\Users\\jocollin\\AppData\\Local\\Temp\\ipykernel_14840\\741805438.py:5: DeprecationWarning: executable_path has been deprecated, please pass in a Service object\n",
      "  driver = webdriver.Firefox(\n",
      "C:\\Users\\jocollin\\AppData\\Local\\Temp\\ipykernel_14840\\741805438.py:5: DeprecationWarning: firefox_profile has been deprecated, please pass in an Options object\n",
      "  driver = webdriver.Firefox(\n"
     ]
    }
   ],
   "source": [
    "website_url = 'https://geoportal.bayern.de/bauleitplanungsportal/'\n",
    "filename = datetime.datetime.now().strftime(\"%Y%m%d%H%M%S\")+\"_Searchbar_Scrape.txt\"\n",
    "profile= webdriver.FirefoxProfile()\n",
    "profile.set_preference( \"layout.css.devPixelsPerPx\", \"0.5\" )\n",
    "driver = webdriver.Firefox(\n",
    "    firefox_profile=profile,\n",
    "    executable_path=GeckoDriverManager().install()\n",
    "    )\n",
    "driver.get(website_url)\n",
    "time.sleep(20)\n",
    "\n",
    "search_bar = driver.find_element(By.XPATH, '//*[@id=\"search\"]')"
   ]
  },
  {
   "cell_type": "code",
   "execution_count": 5,
   "metadata": {},
   "outputs": [],
   "source": [
    "search_bar.send_keys(\"aa\")\n",
    "elements = driver.find_elements(By.CLASS_NAME,\"list-group-item.list-group-item-action.flex-column.align-items-start\")\n",
    "soup = BeautifulSoup(elements[0].get_attribute(\"outerHTML\"), 'html.parser')\n",
    "\n",
    "anchor_tags = soup.find_all('a', href=True)\n",
    "for anchor_tag in anchor_tags:\n",
    "    href_value = anchor_tag['href']\n",
    "    print(href_value)"
   ]
  }
 ],
 "metadata": {
  "kernelspec": {
   "display_name": "Python 3",
   "language": "python",
   "name": "python3"
  },
  "language_info": {
   "codemirror_mode": {
    "name": "ipython",
    "version": 3
   },
   "file_extension": ".py",
   "mimetype": "text/x-python",
   "name": "python",
   "nbconvert_exporter": "python",
   "pygments_lexer": "ipython3",
   "version": "3.10.7"
  }
 },
 "nbformat": 4,
 "nbformat_minor": 2
}
