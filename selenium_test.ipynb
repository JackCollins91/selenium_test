{
 "cells": [
  {
   "cell_type": "code",
   "execution_count": 1,
   "metadata": {},
   "outputs": [
    {
     "name": "stderr",
     "output_type": "stream",
     "text": [
      "C:\\Users\\jocollin\\AppData\\Local\\Temp\\ipykernel_6164\\2657282675.py:12: DeprecationWarning: executable_path has been deprecated, please pass in a Service object\n",
      "  driver = webdriver.Firefox(\n"
     ]
    },
    {
     "ename": "KeyboardInterrupt",
     "evalue": "",
     "output_type": "error",
     "traceback": [
      "\u001b[1;31m---------------------------------------------------------------------------\u001b[0m",
      "\u001b[1;31mKeyboardInterrupt\u001b[0m                         Traceback (most recent call last)",
      "\u001b[1;32mc:\\Users\\jocollin\\Documents\\repos\\selenium_test\\selenium_test.ipynb Cell 1\u001b[0m line \u001b[0;36m4\n\u001b[0;32m     <a href='vscode-notebook-cell:/c%3A/Users/jocollin/Documents/repos/selenium_test/selenium_test.ipynb#W0sZmlsZQ%3D%3D?line=42'>43</a>\u001b[0m     action\u001b[39m.\u001b[39mclick()\n\u001b[0;32m     <a href='vscode-notebook-cell:/c%3A/Users/jocollin/Documents/repos/selenium_test/selenium_test.ipynb#W0sZmlsZQ%3D%3D?line=43'>44</a>\u001b[0m     action\u001b[39m.\u001b[39mperform()\n\u001b[1;32m---> <a href='vscode-notebook-cell:/c%3A/Users/jocollin/Documents/repos/selenium_test/selenium_test.ipynb#W0sZmlsZQ%3D%3D?line=44'>45</a>\u001b[0m     time\u001b[39m.\u001b[39;49msleep(\u001b[39m10\u001b[39;49m)\n\u001b[0;32m     <a href='vscode-notebook-cell:/c%3A/Users/jocollin/Documents/repos/selenium_test/selenium_test.ipynb#W0sZmlsZQ%3D%3D?line=45'>46</a>\u001b[0m \u001b[39mtry\u001b[39;00m:\n\u001b[0;32m     <a href='vscode-notebook-cell:/c%3A/Users/jocollin/Documents/repos/selenium_test/selenium_test.ipynb#W0sZmlsZQ%3D%3D?line=47'>48</a>\u001b[0m     panel_body_html \u001b[39m=\u001b[39m driver\u001b[39m.\u001b[39mfind_element(\n\u001b[0;32m     <a href='vscode-notebook-cell:/c%3A/Users/jocollin/Documents/repos/selenium_test/selenium_test.ipynb#W0sZmlsZQ%3D%3D?line=48'>49</a>\u001b[0m             By\u001b[39m.\u001b[39mCLASS_NAME, \u001b[39m\"\u001b[39m\u001b[39mpanel-body\u001b[39m\u001b[39m\"\u001b[39m\n\u001b[0;32m     <a href='vscode-notebook-cell:/c%3A/Users/jocollin/Documents/repos/selenium_test/selenium_test.ipynb#W0sZmlsZQ%3D%3D?line=49'>50</a>\u001b[0m         )\u001b[39m.\u001b[39mget_attribute(\u001b[39m\"\u001b[39m\u001b[39mouterHTML\u001b[39m\u001b[39m\"\u001b[39m)\n",
      "\u001b[1;31mKeyboardInterrupt\u001b[0m: "
     ]
    }
   ],
   "source": [
    "from selenium import webdriver\n",
    "from selenium.webdriver.common.by import By\n",
    "from selenium.webdriver.common.action_chains import ActionChains\n",
    "from webdriver_manager.firefox import GeckoDriverManager\n",
    "import time\n",
    "import math\n",
    "import numpy as np\n",
    "import datetime\n",
    "\n",
    "STEP_SIZE = 10\n",
    "\n",
    "filename = datetime.datetime.now().strftime(\"%Y%m%d%H%M%S\")+\".txt\"\n",
    "driver = webdriver.Firefox(\n",
    "    executable_path=GeckoDriverManager().install()\n",
    "    )\n",
    "\n",
    "website_url = \"https://geoportal.bayern.de/bauleitplanungsportal/karte.html\"\n",
    "\n",
    "time.sleep(5)\n",
    "\n",
    "driver.switch_to.frame(\"map\")\n",
    "\n",
    "ol_viewport = driver.find_element(By.XPATH, '/html/body/div[2]/div[7]')\n",
    "viewport_width = math.floor(ol_viewport.size['width'])\n",
    "viewport_height =math.floor(ol_viewport.size['height'])\n",
    " \n",
    "for x in np.arange(0, viewport_width, STEP_SIZE):\n",
    "    for y in np.arange(0, viewport_height, STEP_SIZE):\n",
    "        if x < viewport_width or y < viewport_height:\n",
    "            action = ActionChains(driver)\n",
    "            action.move_to_element_with_offset(ol_viewport, x, y)\n",
    "            action.click()\n",
    "            action.perform()\n",
    "            time.sleep(10)\n",
    "        try:\n",
    "            panel_body_html = driver.find_element(\n",
    "                    By.CLASS_NAME, \"panel-body\"\n",
    "                ).get_attribute(\"outerHTML\")\n",
    "        except:\n",
    "            panel_body_html = '<div> No Element Found <div/>'\n",
    "        output_text = \"<coords value = str((x,y))>\\n\"+panel_body_html+\"\\n<coords/>\\n\"\n",
    "        with open(filename, 'a', encoding=\"utf-8\") as file:\n",
    "            file.write(output_text +'\\n')\n",
    "        \n",
    "\n",
    "driver.quit()"
   ]
  }
 ],
 "metadata": {
  "kernelspec": {
   "display_name": "Python 3",
   "language": "python",
   "name": "python3"
  },
  "language_info": {
   "codemirror_mode": {
    "name": "ipython",
    "version": 3
   },
   "file_extension": ".py",
   "mimetype": "text/x-python",
   "name": "python",
   "nbconvert_exporter": "python",
   "pygments_lexer": "ipython3",
   "version": "3.10.7"
  }
 },
 "nbformat": 4,
 "nbformat_minor": 2
}
