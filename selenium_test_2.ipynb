{
 "cells": [
  {
   "cell_type": "code",
   "execution_count": 1,
   "metadata": {},
   "outputs": [],
   "source": [
    "from selenium import webdriver\n",
    "from selenium.webdriver.common.by import By\n",
    "from selenium.webdriver.common.action_chains import ActionChains\n",
    "from webdriver_manager.firefox import GeckoDriverManager\n",
    "from selenium.webdriver.common.keys import Keys\n",
    "import time\n",
    "import math\n",
    "import numpy as np\n"
   ]
  },
  {
   "cell_type": "code",
   "execution_count": 2,
   "metadata": {},
   "outputs": [
    {
     "name": "stderr",
     "output_type": "stream",
     "text": [
      "C:\\Users\\jocollin\\AppData\\Local\\Temp\\ipykernel_1724\\2117551829.py:1: DeprecationWarning: executable_path has been deprecated, please pass in a Service object\n",
      "  driver = webdriver.Firefox(\n"
     ]
    },
    {
     "name": "stdout",
     "output_type": "stream",
     "text": [
      "1280\n",
      "595\n"
     ]
    },
    {
     "ename": "KeyboardInterrupt",
     "evalue": "",
     "output_type": "error",
     "traceback": [
      "\u001b[1;31m---------------------------------------------------------------------------\u001b[0m",
      "\u001b[1;31mKeyboardInterrupt\u001b[0m                         Traceback (most recent call last)",
      "\u001b[1;32mc:\\Users\\jocollin\\Documents\\repos\\selenium_test\\selenium_test_2.ipynb Cell 2\u001b[0m line \u001b[0;36m3\n\u001b[0;32m     <a href='vscode-notebook-cell:/c%3A/Users/jocollin/Documents/repos/selenium_test/selenium_test_2.ipynb#W2sZmlsZQ%3D%3D?line=31'>32</a>\u001b[0m     action\u001b[39m.\u001b[39mclick()\n\u001b[0;32m     <a href='vscode-notebook-cell:/c%3A/Users/jocollin/Documents/repos/selenium_test/selenium_test_2.ipynb#W2sZmlsZQ%3D%3D?line=32'>33</a>\u001b[0m     action\u001b[39m.\u001b[39mperform()\n\u001b[1;32m---> <a href='vscode-notebook-cell:/c%3A/Users/jocollin/Documents/repos/selenium_test/selenium_test_2.ipynb#W2sZmlsZQ%3D%3D?line=33'>34</a>\u001b[0m     time\u001b[39m.\u001b[39;49msleep(\u001b[39m5\u001b[39;49m)\n\u001b[0;32m     <a href='vscode-notebook-cell:/c%3A/Users/jocollin/Documents/repos/selenium_test/selenium_test_2.ipynb#W2sZmlsZQ%3D%3D?line=35'>36</a>\u001b[0m panel_body_html \u001b[39m=\u001b[39m driver\u001b[39m.\u001b[39mfind_element(\n\u001b[0;32m     <a href='vscode-notebook-cell:/c%3A/Users/jocollin/Documents/repos/selenium_test/selenium_test_2.ipynb#W2sZmlsZQ%3D%3D?line=36'>37</a>\u001b[0m     By\u001b[39m.\u001b[39mCLASS_NAME, \u001b[39m\"\u001b[39m\u001b[39mpanel-body\u001b[39m\u001b[39m\"\u001b[39m\n\u001b[0;32m     <a href='vscode-notebook-cell:/c%3A/Users/jocollin/Documents/repos/selenium_test/selenium_test_2.ipynb#W2sZmlsZQ%3D%3D?line=37'>38</a>\u001b[0m     )\u001b[39m.\u001b[39mget_attribute(\u001b[39m\"\u001b[39m\u001b[39mouterHTML\u001b[39m\u001b[39m\"\u001b[39m)\n\u001b[0;32m     <a href='vscode-notebook-cell:/c%3A/Users/jocollin/Documents/repos/selenium_test/selenium_test_2.ipynb#W2sZmlsZQ%3D%3D?line=38'>39</a>\u001b[0m \u001b[39mwith\u001b[39;00m \u001b[39mopen\u001b[39m(\u001b[39m'\u001b[39m\u001b[39mscrape.txt\u001b[39m\u001b[39m'\u001b[39m, \u001b[39m'\u001b[39m\u001b[39ma\u001b[39m\u001b[39m'\u001b[39m) \u001b[39mas\u001b[39;00m file:\n",
      "\u001b[1;31mKeyboardInterrupt\u001b[0m: "
     ]
    }
   ],
   "source": [
    "\n",
    "\n",
    "driver = webdriver.Firefox(\n",
    "    executable_path=GeckoDriverManager().install()\n",
    "    )\n",
    "\n",
    "\n",
    "website_url = \"https://geoportal.bayern.de/bayernatlas/?lang=de&topic=pl_bau&bgLayer=atkis&layers=a818e80e-78b7-4b21-8c15-d5f8abe6c420,43df73e1-e2be-4034-83da-791f716fc394,26d2b2b8-3944-4a49-aec2-59f827d9aa9e&layers_visibility=false,false,true&E=584415.05&N=5478753.04&zoom=4&catalogNodes=132,1322\"\n",
    "driver.get(website_url)\n",
    "\n",
    "time.sleep(10)\n",
    "\n",
    "## Here we get the iframe html element, which is like a webpage \n",
    "# within a webpage.\n",
    "ol_viewport = driver.find_element(By.XPATH, '/html/body/div[5]/div[5]')\n",
    "\n",
    "# Get the dimensions of the 'ol-viewport' element\n",
    "viewport_width = math.floor(ol_viewport.size['width'])\n",
    "viewport_height =math.floor(ol_viewport.size['height'])\n",
    "\n",
    "print(viewport_width)\n",
    "print(viewport_height)\n",
    "\n",
    "# Set the step size for sliding\n",
    "step_size = .1\n",
    "\n",
    "\n",
    "# Slide from left to right\n",
    "for x in np.arange(0, viewport_width, step_size):\n",
    "    for y in np.arange(0, viewport_height, step_size):\n",
    "        if x < viewport_width or y < viewport_height:\n",
    "            action = ActionChains(driver)\n",
    "            action.move_to_element_with_offset(ol_viewport, x, y)\n",
    "            action.click()\n",
    "            action.perform()\n",
    "            time.sleep(10)\n",
    "\n",
    "        panel_body_html = driver.find_element(\n",
    "            By.CLASS_NAME, \"panel-body\"\n",
    "            ).get_attribute(\"outerHTML\")\n",
    "        output_text = \"<coords>\"+str((x,y))+\"<coords/>\\n\"+panel_body_html\n",
    "        with open('scrape.txt', 'a') as file:\n",
    "            file.write(panel_body_html +'\\n')\n",
    "\n",
    "driver.quit()\n"
   ]
  }
 ],
 "metadata": {
  "kernelspec": {
   "display_name": "Python 3",
   "language": "python",
   "name": "python3"
  },
  "language_info": {
   "codemirror_mode": {
    "name": "ipython",
    "version": 3
   },
   "file_extension": ".py",
   "mimetype": "text/x-python",
   "name": "python",
   "nbconvert_exporter": "python",
   "pygments_lexer": "ipython3",
   "version": "3.10.7"
  }
 },
 "nbformat": 4,
 "nbformat_minor": 2
}
